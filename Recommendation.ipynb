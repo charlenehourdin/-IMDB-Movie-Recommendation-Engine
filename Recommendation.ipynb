{
 "cells": [
  {
   "cell_type": "code",
   "execution_count": 1,
   "metadata": {},
   "outputs": [
    {
     "data": {
      "text/html": [
       "<div>\n",
       "<style scoped>\n",
       "    .dataframe tbody tr th:only-of-type {\n",
       "        vertical-align: middle;\n",
       "    }\n",
       "\n",
       "    .dataframe tbody tr th {\n",
       "        vertical-align: top;\n",
       "    }\n",
       "\n",
       "    .dataframe thead th {\n",
       "        text-align: right;\n",
       "    }\n",
       "</style>\n",
       "<table border=\"1\" class=\"dataframe\">\n",
       "  <thead>\n",
       "    <tr style=\"text-align: right;\">\n",
       "      <th></th>\n",
       "      <th>director_name</th>\n",
       "      <th>duration</th>\n",
       "      <th>genres</th>\n",
       "      <th>movie_title</th>\n",
       "      <th>plot_keywords</th>\n",
       "      <th>language</th>\n",
       "      <th>country</th>\n",
       "      <th>title_year</th>\n",
       "      <th>imdb_score</th>\n",
       "      <th>actors</th>\n",
       "      <th>age_limite</th>\n",
       "    </tr>\n",
       "  </thead>\n",
       "  <tbody>\n",
       "    <tr>\n",
       "      <th>0</th>\n",
       "      <td>James Cameron</td>\n",
       "      <td>178.0</td>\n",
       "      <td>Action|Adventure|Fantasy|Sci-Fi</td>\n",
       "      <td>Avatar</td>\n",
       "      <td>avatar|future|marine|native|paraplegic</td>\n",
       "      <td>English</td>\n",
       "      <td>USA</td>\n",
       "      <td>2009.000000</td>\n",
       "      <td>7.9</td>\n",
       "      <td>['CCH Pounder', 'Joel David Moore', 'Wes Studi']</td>\n",
       "      <td>14</td>\n",
       "    </tr>\n",
       "    <tr>\n",
       "      <th>1</th>\n",
       "      <td>Gore Verbinski</td>\n",
       "      <td>169.0</td>\n",
       "      <td>Action|Adventure|Fantasy</td>\n",
       "      <td>Pirates of the Caribbean: At World's End</td>\n",
       "      <td>goddess|marriage ceremony|marriage proposal|pi...</td>\n",
       "      <td>English</td>\n",
       "      <td>USA</td>\n",
       "      <td>2007.000000</td>\n",
       "      <td>7.1</td>\n",
       "      <td>['Johnny Depp', 'Orlando Bloom', 'Jack Davenpo...</td>\n",
       "      <td>14</td>\n",
       "    </tr>\n",
       "    <tr>\n",
       "      <th>2</th>\n",
       "      <td>Sam Mendes</td>\n",
       "      <td>148.0</td>\n",
       "      <td>Action|Adventure|Thriller</td>\n",
       "      <td>Spectre</td>\n",
       "      <td>bomb|espionage|sequel|spy|terrorist</td>\n",
       "      <td>English</td>\n",
       "      <td>UK</td>\n",
       "      <td>2015.000000</td>\n",
       "      <td>6.8</td>\n",
       "      <td>['Christoph Waltz', 'Rory Kinnear', 'Stephanie...</td>\n",
       "      <td>14</td>\n",
       "    </tr>\n",
       "    <tr>\n",
       "      <th>3</th>\n",
       "      <td>Christopher Nolan</td>\n",
       "      <td>164.0</td>\n",
       "      <td>Action|Thriller</td>\n",
       "      <td>The Dark Knight Rises</td>\n",
       "      <td>deception|imprisonment|lawlessness|police offi...</td>\n",
       "      <td>English</td>\n",
       "      <td>USA</td>\n",
       "      <td>2012.000000</td>\n",
       "      <td>8.5</td>\n",
       "      <td>['Tom Hardy', 'Christian Bale', 'Joseph Gordon...</td>\n",
       "      <td>14</td>\n",
       "    </tr>\n",
       "    <tr>\n",
       "      <th>4</th>\n",
       "      <td>Doug Walker</td>\n",
       "      <td>0.0</td>\n",
       "      <td>Documentary</td>\n",
       "      <td>Star Wars: Episode VII - The Force Awakens    ...</td>\n",
       "      <td>NaN</td>\n",
       "      <td>NaN</td>\n",
       "      <td>NaN</td>\n",
       "      <td>2002.470517</td>\n",
       "      <td>7.1</td>\n",
       "      <td>['Doug Walker', 'Rob Walker', '']</td>\n",
       "      <td>17</td>\n",
       "    </tr>\n",
       "    <tr>\n",
       "      <th>...</th>\n",
       "      <td>...</td>\n",
       "      <td>...</td>\n",
       "      <td>...</td>\n",
       "      <td>...</td>\n",
       "      <td>...</td>\n",
       "      <td>...</td>\n",
       "      <td>...</td>\n",
       "      <td>...</td>\n",
       "      <td>...</td>\n",
       "      <td>...</td>\n",
       "      <td>...</td>\n",
       "    </tr>\n",
       "    <tr>\n",
       "      <th>95</th>\n",
       "      <td>James Gunn</td>\n",
       "      <td>121.0</td>\n",
       "      <td>Action|Adventure|Sci-Fi</td>\n",
       "      <td>Guardians of the Galaxy</td>\n",
       "      <td>bounty hunter|outer space|raccoon|talking anim...</td>\n",
       "      <td>English</td>\n",
       "      <td>USA</td>\n",
       "      <td>2014.000000</td>\n",
       "      <td>8.1</td>\n",
       "      <td>['Bradley Cooper', 'Vin Diesel', 'Djimon Houns...</td>\n",
       "      <td>14</td>\n",
       "    </tr>\n",
       "    <tr>\n",
       "      <th>96</th>\n",
       "      <td>Christopher Nolan</td>\n",
       "      <td>169.0</td>\n",
       "      <td>Adventure|Drama|Sci-Fi</td>\n",
       "      <td>Interstellar</td>\n",
       "      <td>black hole|father daughter relationship|saving...</td>\n",
       "      <td>English</td>\n",
       "      <td>USA</td>\n",
       "      <td>2014.000000</td>\n",
       "      <td>8.6</td>\n",
       "      <td>['Matthew McConaughey', 'Anne Hathaway', 'Mack...</td>\n",
       "      <td>14</td>\n",
       "    </tr>\n",
       "    <tr>\n",
       "      <th>97</th>\n",
       "      <td>Christopher Nolan</td>\n",
       "      <td>148.0</td>\n",
       "      <td>Action|Adventure|Sci-Fi|Thriller</td>\n",
       "      <td>Inception</td>\n",
       "      <td>ambiguous ending|corporate espionage|dream|sub...</td>\n",
       "      <td>English</td>\n",
       "      <td>USA</td>\n",
       "      <td>2010.000000</td>\n",
       "      <td>8.8</td>\n",
       "      <td>['Leonardo DiCaprio', 'Tom Hardy', 'Joseph Gor...</td>\n",
       "      <td>14</td>\n",
       "    </tr>\n",
       "    <tr>\n",
       "      <th>98</th>\n",
       "      <td>Hideaki Anno</td>\n",
       "      <td>120.0</td>\n",
       "      <td>Action|Adventure|Drama|Horror|Sci-Fi</td>\n",
       "      <td>Godzilla Resurgence</td>\n",
       "      <td>blood|godzilla|monster|sequel</td>\n",
       "      <td>Japanese</td>\n",
       "      <td>Japan</td>\n",
       "      <td>2016.000000</td>\n",
       "      <td>8.2</td>\n",
       "      <td>['Mark Chinnery', \"Shin'ya Tsukamoto\", 'Atsuko...</td>\n",
       "      <td>17</td>\n",
       "    </tr>\n",
       "    <tr>\n",
       "      <th>99</th>\n",
       "      <td>Peter Jackson</td>\n",
       "      <td>182.0</td>\n",
       "      <td>Adventure|Fantasy</td>\n",
       "      <td>The Hobbit: An Unexpected Journey</td>\n",
       "      <td>dragon|dwarf|hobbit|orc|wizard</td>\n",
       "      <td>English</td>\n",
       "      <td>USA</td>\n",
       "      <td>2012.000000</td>\n",
       "      <td>7.9</td>\n",
       "      <td>['Aidan Turner', 'Adam Brown', 'James Nesbitt']</td>\n",
       "      <td>14</td>\n",
       "    </tr>\n",
       "  </tbody>\n",
       "</table>\n",
       "<p>100 rows × 11 columns</p>\n",
       "</div>"
      ],
      "text/plain": [
       "        director_name  duration                                genres  \\\n",
       "0       James Cameron     178.0       Action|Adventure|Fantasy|Sci-Fi   \n",
       "1      Gore Verbinski     169.0              Action|Adventure|Fantasy   \n",
       "2          Sam Mendes     148.0             Action|Adventure|Thriller   \n",
       "3   Christopher Nolan     164.0                       Action|Thriller   \n",
       "4         Doug Walker       0.0                           Documentary   \n",
       "..                ...       ...                                   ...   \n",
       "95         James Gunn     121.0               Action|Adventure|Sci-Fi   \n",
       "96  Christopher Nolan     169.0                Adventure|Drama|Sci-Fi   \n",
       "97  Christopher Nolan     148.0      Action|Adventure|Sci-Fi|Thriller   \n",
       "98       Hideaki Anno     120.0  Action|Adventure|Drama|Horror|Sci-Fi   \n",
       "99      Peter Jackson     182.0                     Adventure|Fantasy   \n",
       "\n",
       "                                          movie_title  \\\n",
       "0                                              Avatar   \n",
       "1            Pirates of the Caribbean: At World's End   \n",
       "2                                             Spectre   \n",
       "3                               The Dark Knight Rises   \n",
       "4   Star Wars: Episode VII - The Force Awakens    ...   \n",
       "..                                                ...   \n",
       "95                            Guardians of the Galaxy   \n",
       "96                                       Interstellar   \n",
       "97                                          Inception   \n",
       "98                                Godzilla Resurgence   \n",
       "99                  The Hobbit: An Unexpected Journey   \n",
       "\n",
       "                                        plot_keywords  language country  \\\n",
       "0              avatar|future|marine|native|paraplegic   English     USA   \n",
       "1   goddess|marriage ceremony|marriage proposal|pi...   English     USA   \n",
       "2                 bomb|espionage|sequel|spy|terrorist   English      UK   \n",
       "3   deception|imprisonment|lawlessness|police offi...   English     USA   \n",
       "4                                                 NaN       NaN     NaN   \n",
       "..                                                ...       ...     ...   \n",
       "95  bounty hunter|outer space|raccoon|talking anim...   English     USA   \n",
       "96  black hole|father daughter relationship|saving...   English     USA   \n",
       "97  ambiguous ending|corporate espionage|dream|sub...   English     USA   \n",
       "98                      blood|godzilla|monster|sequel  Japanese   Japan   \n",
       "99                     dragon|dwarf|hobbit|orc|wizard   English     USA   \n",
       "\n",
       "     title_year  imdb_score  \\\n",
       "0   2009.000000         7.9   \n",
       "1   2007.000000         7.1   \n",
       "2   2015.000000         6.8   \n",
       "3   2012.000000         8.5   \n",
       "4   2002.470517         7.1   \n",
       "..          ...         ...   \n",
       "95  2014.000000         8.1   \n",
       "96  2014.000000         8.6   \n",
       "97  2010.000000         8.8   \n",
       "98  2016.000000         8.2   \n",
       "99  2012.000000         7.9   \n",
       "\n",
       "                                               actors  age_limite  \n",
       "0    ['CCH Pounder', 'Joel David Moore', 'Wes Studi']          14  \n",
       "1   ['Johnny Depp', 'Orlando Bloom', 'Jack Davenpo...          14  \n",
       "2   ['Christoph Waltz', 'Rory Kinnear', 'Stephanie...          14  \n",
       "3   ['Tom Hardy', 'Christian Bale', 'Joseph Gordon...          14  \n",
       "4                   ['Doug Walker', 'Rob Walker', '']          17  \n",
       "..                                                ...         ...  \n",
       "95  ['Bradley Cooper', 'Vin Diesel', 'Djimon Houns...          14  \n",
       "96  ['Matthew McConaughey', 'Anne Hathaway', 'Mack...          14  \n",
       "97  ['Leonardo DiCaprio', 'Tom Hardy', 'Joseph Gor...          14  \n",
       "98  ['Mark Chinnery', \"Shin'ya Tsukamoto\", 'Atsuko...          17  \n",
       "99    ['Aidan Turner', 'Adam Brown', 'James Nesbitt']          14  \n",
       "\n",
       "[100 rows x 11 columns]"
      ]
     },
     "execution_count": 1,
     "metadata": {},
     "output_type": "execute_result"
    }
   ],
   "source": [
    "%matplotlib inline\n",
    "\n",
    "import seaborn as sns\n",
    "import pandas as pd\n",
    "import numpy as np\n",
    "import matplotlib.pyplot as plt\n",
    "from matplotlib.collections import LineCollection\n",
    "\n",
    "\n",
    "from sklearn import metrics, decomposition, preprocessing\n",
    "from sklearn.cluster import KMeans\n",
    "from sklearn.metrics import mean_squared_error, r2_score\n",
    "\n",
    "sns.set()\n",
    "pd.options.display.max_columns = None\n",
    "# We load our data and visualize the first 50 lines.\n",
    "movies = pd.read_csv (\"clean_data_films.csv\")\n",
    "movies.head(100)"
   ]
  },
  {
   "cell_type": "code",
   "execution_count": 2,
   "metadata": {},
   "outputs": [
    {
     "data": {
      "text/plain": [
       "Index(['director_name', 'duration', 'genres', 'movie_title', 'plot_keywords',\n",
       "       'language', 'country', 'title_year', 'imdb_score', 'actors',\n",
       "       'age_limite'],\n",
       "      dtype='object')"
      ]
     },
     "execution_count": 2,
     "metadata": {},
     "output_type": "execute_result"
    }
   ],
   "source": [
    "movies.columns"
   ]
  },
  {
   "cell_type": "code",
   "execution_count": 3,
   "metadata": {},
   "outputs": [
    {
     "data": {
      "text/plain": [
       "<matplotlib.axes._subplots.AxesSubplot at 0x7fb9b1739e10>"
      ]
     },
     "execution_count": 3,
     "metadata": {},
     "output_type": "execute_result"
    },
    {
     "data": {
      "image/png": "[encoded data removed]",
      "text/plain": [
       "<Figure size 432x288 with 2 Axes>"
      ]
     },
     "metadata": {},
     "output_type": "display_data"
    }
   ],
   "source": [
    "sns.heatmap(movies.corr())"
   ]
  },
  {
   "cell_type": "markdown",
   "metadata": {},
   "source": [
    "### Supprimer les espaces et mise en minuscule"
   ]
  },
  {
   "cell_type": "code",
   "execution_count": 4,
   "metadata": {},
   "outputs": [],
   "source": [
    "def minuscule_espace(x):\n",
    "    if isinstance(x, list):\n",
    "        return [str.lower(i.replace(\" \", \"\")) for i in x]\n",
    "    else:       \n",
    "        if isinstance(x, str):\n",
    "            return str.lower(x.replace(\" \", \"\"))\n",
    "        else:\n",
    "            return ''"
   ]
  },
  {
   "cell_type": "code",
   "execution_count": 5,
   "metadata": {},
   "outputs": [],
   "source": [
    "# selection des colonnes qui fournissent des informations sur le contenu du film et qui nécessitent l'application de la fonction minuscule_espace\n",
    "cols = [\"plot_keywords\", \"genres\", \"age_limite\",\"director_name\"]\n",
    "\n",
    "for element in cols:\n",
    "    movies[element] = movies[element].apply(minuscule_espace)"
   ]
  },
  {
   "cell_type": "code",
   "execution_count": 55,
   "metadata": {},
   "outputs": [
    {
     "data": {
      "text/plain": [
       "0                  avatar|future|marine|native|paraplegic\n",
       "1       goddess|marriageceremony|marriageproposal|pira...\n",
       "2                     bomb|espionage|sequel|spy|terrorist\n",
       "3       deception|imprisonment|lawlessness|policeoffic...\n",
       "4                                                        \n",
       "                              ...                        \n",
       "4912                fraud|postalworker|prison|theft|trial\n",
       "4913           cult|fbi|hideout|prisonescape|serialkiller\n",
       "4914                                                     \n",
       "4915                                                     \n",
       "4916    actressnameintitle|crush|date|fourwordtitle|vi...\n",
       "Name: plot_keywords, Length: 4917, dtype: object"
      ]
     },
     "execution_count": 55,
     "metadata": {},
     "output_type": "execute_result"
    }
   ],
   "source": [
    "movies['plot_keywords']"
   ]
  },
  {
   "cell_type": "code",
   "execution_count": 7,
   "metadata": {},
   "outputs": [],
   "source": [
    "# toutes les valeurs nulles sont remplies par \"\" (espace)\n",
    "for col in cols:\n",
    "    movies[col]=movies[col].fillna(\" \")"
   ]
  },
  {
   "cell_type": "code",
   "execution_count": 42,
   "metadata": {},
   "outputs": [],
   "source": [
    "# nous combinons toutes les fonctionnalités uniques pour former un vecteur de colonne\n",
    "def combined_features(row):\n",
    "    return ' '.join(row['age_limite'].split('|')) + ' ' + ' ' .join(row['movie_title'].split('|')) + ' ' + row['genres'] + ' ' + row['plot_keywords']\n",
    "\n"
   ]
  },
  {
   "cell_type": "code",
   "execution_count": 43,
   "metadata": {},
   "outputs": [],
   "source": [
    "movies['combined_features'] = movies.apply(combined_features, axis=1)"
   ]
  },
  {
   "cell_type": "code",
   "execution_count": 44,
   "metadata": {},
   "outputs": [
    {
     "data": {
      "text/html": [
       "<div>\n",
       "<style scoped>\n",
       "    .dataframe tbody tr th:only-of-type {\n",
       "        vertical-align: middle;\n",
       "    }\n",
       "\n",
       "    .dataframe tbody tr th {\n",
       "        vertical-align: top;\n",
       "    }\n",
       "\n",
       "    .dataframe thead th {\n",
       "        text-align: right;\n",
       "    }\n",
       "</style>\n",
       "<table border=\"1\" class=\"dataframe\">\n",
       "  <thead>\n",
       "    <tr style=\"text-align: right;\">\n",
       "      <th></th>\n",
       "      <th>combined_features</th>\n",
       "    </tr>\n",
       "  </thead>\n",
       "  <tbody>\n",
       "    <tr>\n",
       "      <th>0</th>\n",
       "      <td>Avatar action|adventure|fantasy|sci-fi avatar...</td>\n",
       "    </tr>\n",
       "    <tr>\n",
       "      <th>1</th>\n",
       "      <td>Pirates of the Caribbean: At World's End acti...</td>\n",
       "    </tr>\n",
       "    <tr>\n",
       "      <th>2</th>\n",
       "      <td>Spectre action|adventure|thriller bomb|espion...</td>\n",
       "    </tr>\n",
       "    <tr>\n",
       "      <th>3</th>\n",
       "      <td>The Dark Knight Rises action|thriller decepti...</td>\n",
       "    </tr>\n",
       "    <tr>\n",
       "      <th>4</th>\n",
       "      <td>Star Wars: Episode VII - The Force Awakens   ...</td>\n",
       "    </tr>\n",
       "    <tr>\n",
       "      <th>...</th>\n",
       "      <td>...</td>\n",
       "    </tr>\n",
       "    <tr>\n",
       "      <th>4912</th>\n",
       "      <td>Signed Sealed Delivered comedy|drama fraud|po...</td>\n",
       "    </tr>\n",
       "    <tr>\n",
       "      <th>4913</th>\n",
       "      <td>The Following             crime|drama|mystery...</td>\n",
       "    </tr>\n",
       "    <tr>\n",
       "      <th>4914</th>\n",
       "      <td>A Plague So Pleasant drama|horror|thriller</td>\n",
       "    </tr>\n",
       "    <tr>\n",
       "      <th>4915</th>\n",
       "      <td>Shanghai Calling comedy|drama|romance</td>\n",
       "    </tr>\n",
       "    <tr>\n",
       "      <th>4916</th>\n",
       "      <td>My Date with Drew documentary actressnameinti...</td>\n",
       "    </tr>\n",
       "  </tbody>\n",
       "</table>\n",
       "<p>4917 rows × 1 columns</p>\n",
       "</div>"
      ],
      "text/plain": [
       "                                      combined_features\n",
       "0      Avatar action|adventure|fantasy|sci-fi avatar...\n",
       "1      Pirates of the Caribbean: At World's End acti...\n",
       "2      Spectre action|adventure|thriller bomb|espion...\n",
       "3      The Dark Knight Rises action|thriller decepti...\n",
       "4      Star Wars: Episode VII - The Force Awakens   ...\n",
       "...                                                 ...\n",
       "4912   Signed Sealed Delivered comedy|drama fraud|po...\n",
       "4913   The Following             crime|drama|mystery...\n",
       "4914        A Plague So Pleasant drama|horror|thriller \n",
       "4915             Shanghai Calling comedy|drama|romance \n",
       "4916   My Date with Drew documentary actressnameinti...\n",
       "\n",
       "[4917 rows x 1 columns]"
      ]
     },
     "execution_count": 44,
     "metadata": {},
     "output_type": "execute_result"
    }
   ],
   "source": [
    "movies[['combined_features']]"
   ]
  },
  {
   "cell_type": "code",
   "execution_count": 45,
   "metadata": {},
   "outputs": [],
   "source": [
    "#movies = movies [['movie_title', 'combined_features']]"
   ]
  },
  {
   "cell_type": "code",
   "execution_count": 46,
   "metadata": {},
   "outputs": [],
   "source": [
    "from sklearn.metrics.pairwise import linear_kernel\n",
    "from sklearn.metrics.pairwise import cosine_similarity\n",
    "from sklearn.feature_extraction.text import TfidfVectorizer\n",
    "from sklearn.feature_extraction.text import CountVectorizer"
   ]
  },
  {
   "cell_type": "markdown",
   "metadata": {},
   "source": [
    "# Recommandation par combined_features"
   ]
  },
  {
   "cell_type": "markdown",
   "metadata": {},
   "source": [
    "Le modèle de recommandation ne peut lire et comparer un vecteur (matrice) qu'avec un autre, nous devons donc convertir le 'combined_features' en représentation vectorielle à l'aide de  CountVectorizer , qui est un simple compteur de fréquence pour chaque mot dans la colonne 'Bag_of_words'. Une fois que j'ai la matrice contenant le nombre de tous les mots, je peux appliquer la fonction cosine_similarity pour comparer les similitudes entre les films."
   ]
  },
  {
   "cell_type": "markdown",
   "metadata": {},
   "source": [
    "Il faut ensuite créer une série de titres de films, de sorte que l'index de la série puisse correspondre à l'index de ligne et de colonne de la matrice de similarité."
   ]
  },
  {
   "cell_type": "markdown",
   "metadata": {},
   "source": [
    "La dernière étape consiste à créer une fonction qui prend en entrée un titre de film et renvoie les 5 meilleurs films similaires. Cette fonction fera correspondre le titre du film d'entrée avec l'index correspondant de la matrice de similarité."
   ]
  },
  {
   "cell_type": "code",
   "execution_count": null,
   "metadata": {},
   "outputs": [],
   "source": []
  },
  {
   "cell_type": "code",
   "execution_count": 47,
   "metadata": {},
   "outputs": [],
   "source": [
    "# Réinitialisons l'index de notre DataFrame principal et construisons le reverse mapping entre titles and index\n",
    "movies = movies.reset_index()\n",
    "indices = pd.Series(movies.index, index=movies['movie_title'])"
   ]
  },
  {
   "cell_type": "code",
   "execution_count": 48,
   "metadata": {},
   "outputs": [
    {
     "data": {
      "text/plain": [
       "(4917, 11556)"
      ]
     },
     "execution_count": 48,
     "metadata": {},
     "output_type": "execute_result"
    }
   ],
   "source": [
    "#Définissez un objet Vectorizer TF-IDF. Supprimez tous les mots vides anglais tels que «the», «a»\n",
    "tfidf = TfidfVectorizer(stop_words='english')\n",
    "\n",
    "#Remplacez NaN par une chaîne vide\n",
    "movies['combined_features'] = movies['combined_features'].fillna('')\n",
    "\n",
    "#Construire la matrice TF-IDF requise en ajustant et en transformant les données\n",
    "tfidf_matrix = tfidf.fit_transform(movies['combined_features'])\n",
    "\n",
    "#Sortie de la forme de tfidf_matrix\n",
    "tfidf_matrix.shape\n"
   ]
  },
  {
   "cell_type": "code",
   "execution_count": 49,
   "metadata": {},
   "outputs": [],
   "source": [
    "cosine_sim2 = cosine_similarity(tfidf_matrix, tfidf_matrix)"
   ]
  },
  {
   "cell_type": "code",
   "execution_count": 50,
   "metadata": {},
   "outputs": [
    {
     "data": {
      "text/plain": [
       "array([[1.        , 0.04323796, 0.03389455, ..., 0.        , 0.        ,\n",
       "        0.        ],\n",
       "       [0.04323796, 1.        , 0.0338393 , ..., 0.        , 0.        ,\n",
       "        0.        ],\n",
       "       [0.03389455, 0.0338393 , 1.        , ..., 0.02432395, 0.        ,\n",
       "        0.        ],\n",
       "       ...,\n",
       "       [0.        , 0.        , 0.02432395, ..., 1.        , 0.01870734,\n",
       "        0.        ],\n",
       "       [0.        , 0.        , 0.        , ..., 0.01870734, 1.        ,\n",
       "        0.        ],\n",
       "       [0.        , 0.        , 0.        , ..., 0.        , 0.        ,\n",
       "        1.        ]])"
      ]
     },
     "execution_count": 50,
     "metadata": {},
     "output_type": "execute_result"
    }
   ],
   "source": [
    "cosine_sim2"
   ]
  },
  {
   "cell_type": "markdown",
   "metadata": {},
   "source": [
    "## Film de Marine\n",
    "####  RocknRolla, Inception, Hitch, Sherlock Holmes"
   ]
  },
  {
   "cell_type": "code",
   "execution_count": 51,
   "metadata": {},
   "outputs": [],
   "source": [
    "# Voici la fonction qui prend un film en entrée et ressort les films les plus similaires\n",
    "def get_recommendations(title, cosine_sim=cosine_sim2):\n",
    "    # Obtenir l'index du film qui correspond au titre\n",
    "    idx = indices[title]\n",
    "\n",
    "    # Obtenez les scores de similarité pairwsie de tous les films avec ce film\n",
    "    sim_scores = list(enumerate(cosine_sim[idx]))\n",
    "\n",
    "    # Trier les films en fonction des scores de similarité\n",
    "    sim_scores = sorted(sim_scores, key=lambda x: x[1], reverse=True)\n",
    "\n",
    "    # Obtenez les scores des 5 films les plus similaires\n",
    "    sim_scores = sim_scores[1:6]\n",
    "\n",
    "    # Obtenir les index du film\n",
    "    movie_indices = [i[0] for i in sim_scores]\n",
    "\n",
    "    # Retourne le top 5 des films les plus similaires\n",
    "    return movies['movie_title'].iloc[movie_indices]"
   ]
  },
  {
   "cell_type": "markdown",
   "metadata": {},
   "source": [
    "### Générer des recommandations par titre, genres, mot clé, et age"
   ]
  },
  {
   "cell_type": "code",
   "execution_count": 58,
   "metadata": {},
   "outputs": [
    {
     "name": "stdin",
     "output_type": "stream",
     "text": [
      "Entrez le film que vous désirez voir : Harry Potter and the Goblet of Fire\n"
     ]
    },
    {
     "data": {
      "text/html": [
       "<div>\n",
       "<style scoped>\n",
       "    .dataframe tbody tr th:only-of-type {\n",
       "        vertical-align: middle;\n",
       "    }\n",
       "\n",
       "    .dataframe tbody tr th {\n",
       "        vertical-align: top;\n",
       "    }\n",
       "\n",
       "    .dataframe thead th {\n",
       "        text-align: right;\n",
       "    }\n",
       "</style>\n",
       "<table border=\"1\" class=\"dataframe\">\n",
       "  <thead>\n",
       "    <tr style=\"text-align: right;\">\n",
       "      <th></th>\n",
       "      <th>movie_title</th>\n",
       "    </tr>\n",
       "  </thead>\n",
       "  <tbody>\n",
       "    <tr>\n",
       "      <th>114</th>\n",
       "      <td>Harry Potter and the Order of the Phoenix</td>\n",
       "    </tr>\n",
       "    <tr>\n",
       "      <th>193</th>\n",
       "      <td>Harry Potter and the Prisoner of Azkaban</td>\n",
       "    </tr>\n",
       "    <tr>\n",
       "      <th>200</th>\n",
       "      <td>Harry Potter and the Sorcerer's Stone</td>\n",
       "    </tr>\n",
       "    <tr>\n",
       "      <th>203</th>\n",
       "      <td>Harry Potter and the Deathly Hallows: Part I</td>\n",
       "    </tr>\n",
       "    <tr>\n",
       "      <th>197</th>\n",
       "      <td>Harry Potter and the Deathly Hallows: Part II</td>\n",
       "    </tr>\n",
       "  </tbody>\n",
       "</table>\n",
       "</div>"
      ],
      "text/plain": [
       "                                       movie_title\n",
       "114      Harry Potter and the Order of the Phoenix\n",
       "193       Harry Potter and the Prisoner of Azkaban\n",
       "200          Harry Potter and the Sorcerer's Stone\n",
       "203   Harry Potter and the Deathly Hallows: Part I\n",
       "197  Harry Potter and the Deathly Hallows: Part II"
      ]
     },
     "execution_count": 58,
     "metadata": {},
     "output_type": "execute_result"
    }
   ],
   "source": [
    "filmo1 = input('Entrez le film que vous désirez voir :')\n",
    "reco_data =pd.DataFrame(get_recommendations(filmo1, cosine_sim2))\n",
    "reco_data"
   ]
  },
  {
   "cell_type": "markdown",
   "metadata": {},
   "source": [
    "# Recommandation par Genre"
   ]
  },
  {
   "cell_type": "code",
   "execution_count": 19,
   "metadata": {},
   "outputs": [
    {
     "data": {
      "text/plain": [
       "(4917, 29)"
      ]
     },
     "execution_count": 19,
     "metadata": {},
     "output_type": "execute_result"
    }
   ],
   "source": [
    "#Définissez un objet Vectorizer TF-IDF. Supprimez tous les mots vides anglais tels que «the», «a»\n",
    "tfidf = TfidfVectorizer(stop_words='english')\n",
    "\n",
    "#Remplacez NaN par une chaîne vide\n",
    "movies['genres'] = movies['genres'].fillna('')\n",
    "\n",
    "#Construire la matrice TF-IDF requise en ajustant et en transformant les données\n",
    "tfidf_matrix = tfidf.fit_transform(movies['genres'])\n",
    "\n",
    "#Sortie de la forme de tfidf_matrix\n",
    "tfidf_matrix.shape"
   ]
  },
  {
   "cell_type": "code",
   "execution_count": 20,
   "metadata": {},
   "outputs": [],
   "source": [
    "cosine_sim3 = cosine_similarity(tfidf_matrix, tfidf_matrix)"
   ]
  },
  {
   "cell_type": "code",
   "execution_count": 21,
   "metadata": {},
   "outputs": [],
   "source": [
    "# Voici la fonction qui prend un film en entrée et ressort les films les plus similaires\n",
    "def get_recommendations_genres(title, cosine_sim=cosine_sim3):\n",
    "    # Obtenir l'index du film qui correspond au titre\n",
    "    idx = indices[title]\n",
    "\n",
    "    # Obtenez les scores de similarité pairwsie de tous les films avec ce film\n",
    "    sim_scores = list(enumerate(cosine_sim[idx]))\n",
    "\n",
    "    # Trier les films en fonction des scores de similarité\n",
    "    sim_scores = sorted(sim_scores, key=lambda x: x[1], reverse=True)\n",
    "\n",
    "    # Obtenez les scores des 5 films les plus similaires\n",
    "    sim_scores = sim_scores[1:6]\n",
    "\n",
    "    # Obtenir les index du film\n",
    "    movie_indices = [i[0] for i in sim_scores]\n",
    "\n",
    "    # Retourne le top 5 des films les plus similaires\n",
    "    return movies['movie_title'].iloc[movie_indices]"
   ]
  },
  {
   "cell_type": "markdown",
   "metadata": {},
   "source": [
    "### Générer des recommandations "
   ]
  },
  {
   "cell_type": "code",
   "execution_count": 57,
   "metadata": {},
   "outputs": [
    {
     "name": "stdin",
     "output_type": "stream",
     "text": [
      "Entrez le film que vous désirez voir : Harry Potter and the Goblet of Fire\n"
     ]
    },
    {
     "data": {
      "text/html": [
       "<div>\n",
       "<style scoped>\n",
       "    .dataframe tbody tr th:only-of-type {\n",
       "        vertical-align: middle;\n",
       "    }\n",
       "\n",
       "    .dataframe tbody tr th {\n",
       "        vertical-align: top;\n",
       "    }\n",
       "\n",
       "    .dataframe thead th {\n",
       "        text-align: right;\n",
       "    }\n",
       "</style>\n",
       "<table border=\"1\" class=\"dataframe\">\n",
       "  <thead>\n",
       "    <tr style=\"text-align: right;\">\n",
       "      <th></th>\n",
       "      <th>movie_title</th>\n",
       "    </tr>\n",
       "  </thead>\n",
       "  <tbody>\n",
       "    <tr>\n",
       "      <th>114</th>\n",
       "      <td>Harry Potter and the Order of the Phoenix</td>\n",
       "    </tr>\n",
       "    <tr>\n",
       "      <th>115</th>\n",
       "      <td>Harry Potter and the Goblet of Fire</td>\n",
       "    </tr>\n",
       "    <tr>\n",
       "      <th>193</th>\n",
       "      <td>Harry Potter and the Prisoner of Azkaban</td>\n",
       "    </tr>\n",
       "    <tr>\n",
       "      <th>282</th>\n",
       "      <td>Harry Potter and the Chamber of Secrets</td>\n",
       "    </tr>\n",
       "    <tr>\n",
       "      <th>1802</th>\n",
       "      <td>Return to Oz</td>\n",
       "    </tr>\n",
       "  </tbody>\n",
       "</table>\n",
       "</div>"
      ],
      "text/plain": [
       "                                    movie_title\n",
       "114   Harry Potter and the Order of the Phoenix\n",
       "115         Harry Potter and the Goblet of Fire\n",
       "193    Harry Potter and the Prisoner of Azkaban\n",
       "282     Harry Potter and the Chamber of Secrets\n",
       "1802                               Return to Oz"
      ]
     },
     "execution_count": 57,
     "metadata": {},
     "output_type": "execute_result"
    }
   ],
   "source": [
    "filmo = input('Entrez le film que vous désirez voir :')\n",
    "reco_data =pd.DataFrame(get_recommendations_genres(filmo, cosine_sim3))\n",
    "reco_data"
   ]
  },
  {
   "cell_type": "code",
   "execution_count": null,
   "metadata": {},
   "outputs": [],
   "source": []
  }
 ],
 "metadata": {
  "kernelspec": {
   "display_name": "Python 3",
   "language": "python",
   "name": "python3"
  },
  "language_info": {
   "codemirror_mode": {
    "name": "ipython",
    "version": 3
   },
   "file_extension": ".py",
   "mimetype": "text/x-python",
   "name": "python",
   "nbconvert_exporter": "python",
   "pygments_lexer": "ipython3",
   "version": "3.7.10"
  }
 },
 "nbformat": 4,
 "nbformat_minor": 4
}
