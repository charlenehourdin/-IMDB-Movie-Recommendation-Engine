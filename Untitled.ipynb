{
 "cells": [
  {
   "cell_type": "code",
   "execution_count": null,
   "id": "68e3acaa-3729-42b1-ab78-e1a0e163ddf0",
   "metadata": {},
   "outputs": [],
   "source": [
    "liste_groupe = \n",
    "nb_groupe = input(int('Combien de groupes : ')\n",
    "groupe = input( \" De combien de personne est constituer votre groupe : \")\n",
    "rang = input ('')"
   ]
  },
  {
   "cell_type": "code",
   "execution_count": null,
   "id": "61648a84-cfe4-489a-97e9-79ea30cd38f1",
   "metadata": {},
   "outputs": [],
   "source": [
    "groupe = [\"Honorin\", \"Loic\", \"JB\", \"Mark\", \"Guilian\", \"Meuslem\", \"Maysam\", \"Stan\", \"ElHadji\", \n",
    "           \"Hélène\", \"Sarah\"]"
   ]
  },
  {
   "cell_type": "code",
   "execution_count": 7,
   "id": "5a1a6e3e-ee39-4a62-b093-03913f8e9f5a",
   "metadata": {},
   "outputs": [],
   "source": [
    "import matplotlib.pyplot as plt\n",
    "import numpy as np\n",
    "import random"
   ]
  },
  {
   "cell_type": "code",
   "execution_count": null,
   "id": "ff4f86d6-f97c-43d2-a039-bd4cbb728600",
   "metadata": {},
   "outputs": [],
   "source": [
    "#Places à occuper\n",
    "rang = [(1.25, 0.75), \n",
    "          (2.75, 0.75), \n",
    "          (4.25, 0.75), \n",
    "          (5.75, 0.75), \n",
    "          (2.25, 2.25), \n",
    "          (5.25, 2.25), \n",
    "          (1.25, 2.75), \n",
    "          (4.25, 2.75), \n",
    "          (1.75, 4.25), \n",
    "          (2.75, 4.25), \n",
    "          (4.75, 4.25)]\n",
    "rang = 9 \n",
    "groupe = 7\n",
    "rang_1 = []\n",
    "for i in groupe:\n",
    "    if i <= len(rang):\n",
    "        groupe_1.append(rang_1)\n",
    "    print(rang_1)\n",
    "        \n",
    "    \n",
    "    \n",
    "\n",
    "rang 7 de 13 et 10 de 9 \n",
    "\n",
    "groupe5 = [\"Honorin\", \"Loic\", \"JB\", \"Mark\", \"Guilian\", \"Meuslem\", \"Maysam\"]\n",
    "groupe6 = [\"Mohamed\", \"Vincent\", \"Charlène\", \"Daniel\", \"Pablo\", \"Antoine\", \"Aurélien\", \n",
    "           \"Bertrand\", \"Husain\", \"Philippe\", \"Denis\"]\n",
    "\n",
    "rang_1 = [13]\n",
    "rang_2 = [9]\n",
    "\n"
   ]
  },
  {
   "cell_type": "code",
   "execution_count": null,
   "id": "3a965834-6b8e-466f-afb4-7eea0655c336",
   "metadata": {},
   "outputs": [],
   "source": [
    "def random_repartition(places, groupe):\n",
    "    \"\"\" Répartit aléatoirement un groupe à des places définie dans la salle de cours Simplon.\"\"\"\n",
    "    \n",
    "    if len(places) < len(groupe):\n",
    "        print(\"Pas assez de place dans la salle !\")\n",
    "\n",
    "    else :\n",
    "        \n",
    "        couleurs = ['lightcoral', 'lightskyblue', 'pink', 'palegreen', 'lemonchiffon', 'lightgrey', 'paleturquoise']\n",
    "        \n",
    "        fig = plt.figure()\n",
    "        ax = plt.axes()\n",
    "        plt.title('Répartition aléatoire', fontsize=28)\n",
    "\n",
    "        #Ajout des tables\n",
    "        ax.add_patch(patches.Rectangle((1, 1), 2, 1, edgecolor = 'black', facecolor = couleurs.pop(randint(0, len(couleurs)-1)), fill=True))\n",
    "        ax.add_patch(patches.Rectangle((4, 1), 2, 1, edgecolor = 'black', facecolor = couleurs.pop(randint(0, len(couleurs)-1)), fill=True))\n",
    "        ax.add_patch(patches.Rectangle((1, 3), 2, 1, edgecolor = 'black', facecolor = couleurs.pop(randint(0, len(couleurs)-1)), fill=True))\n",
    "        ax.add_patch(patches.Rectangle((4, 3), 1, 1, edgecolor = 'black', facecolor = couleurs.pop(randint(0, len(couleurs)-1)), fill=True))\n",
    "        ax.add_patch(patches.Rectangle((6, 3), 1, 1, edgecolor = 'black', linewidth = 2, facecolor = couleurs.pop(randint(0, len(couleurs)-1)), fill=True))\n",
    "    \n",
    "        plt.axis([0, 8, 0, 5]);\n",
    "        plt.axis('off')\n",
    "    \n",
    "        #Affichage des places vides\n",
    "        #places_x = [ i[0] for i in places ]\n",
    "        #places_y = [ i[1] for i in places ]\n",
    "        #plt.scatter(places_x, places_y, s=100)\n",
    "    \n",
    "        # Mélange des groupes et des places\n",
    "        shuffle(groupe)\n",
    "        shuffle(places)\n",
    "\n",
    "        for i in range(len(groupe)):\n",
    "            plt.text(places[i][0], places[i][1], groupe[i], fontsize=18, \n",
    "                     horizontalalignment='center', verticalalignment='center')\n",
    "    \n",
    "        plt.text(6.5, 3.5, prof, fontsize=18, horizontalalignment='center', verticalalignment='center')\n",
    "\n",
    "        plt.show()"
   ]
  },
  {
   "cell_type": "code",
   "execution_count": null,
   "id": "09e85960-88e9-4063-83be-90c38c63e2b4",
   "metadata": {},
   "outputs": [],
   "source": [
    "random_repartition(places, groupe2, )"
   ]
  },
  {
   "cell_type": "code",
   "execution_count": 14,
   "id": "e2bc2b0f-8954-4c62-9796-5281349a9db9",
   "metadata": {},
   "outputs": [
    {
     "ename": "AttributeError",
     "evalue": "'int' object has no attribute 'append'",
     "output_type": "error",
     "traceback": [
      "\u001b[0;31m---------------------------------------------------------------------------\u001b[0m",
      "\u001b[0;31mAttributeError\u001b[0m                            Traceback (most recent call last)",
      "\u001b[0;32m<ipython-input-14-ec247b51f84a>\u001b[0m in \u001b[0;36m<module>\u001b[0;34m\u001b[0m\n\u001b[1;32m      4\u001b[0m \u001b[0mplacement\u001b[0m \u001b[0;34m=\u001b[0m \u001b[0;34m[\u001b[0m\u001b[0;34m]\u001b[0m\u001b[0;34m\u001b[0m\u001b[0;34m\u001b[0m\u001b[0m\n\u001b[1;32m      5\u001b[0m \u001b[0;32mfor\u001b[0m \u001b[0mgroupe_1\u001b[0m \u001b[0;32min\u001b[0m \u001b[0mrange\u001b[0m\u001b[0;34m(\u001b[0m\u001b[0;36m0\u001b[0m\u001b[0;34m,\u001b[0m\u001b[0mrang\u001b[0m\u001b[0;34m)\u001b[0m\u001b[0;34m:\u001b[0m\u001b[0;34m\u001b[0m\u001b[0;34m\u001b[0m\u001b[0m\n\u001b[0;32m----> 6\u001b[0;31m     \u001b[0mgroupe_1\u001b[0m\u001b[0;34m.\u001b[0m\u001b[0mappend\u001b[0m\u001b[0;34m(\u001b[0m\u001b[0mplacement\u001b[0m\u001b[0;34m)\u001b[0m\u001b[0;34m\u001b[0m\u001b[0;34m\u001b[0m\u001b[0m\n\u001b[0m\u001b[1;32m      7\u001b[0m \u001b[0;34m\u001b[0m\u001b[0m\n\u001b[1;32m      8\u001b[0m     \u001b[0mprint\u001b[0m\u001b[0;34m(\u001b[0m\u001b[0mplacement\u001b[0m\u001b[0;34m)\u001b[0m\u001b[0;34m\u001b[0m\u001b[0;34m\u001b[0m\u001b[0m\n",
      "\u001b[0;31mAttributeError\u001b[0m: 'int' object has no attribute 'append'"
     ]
    }
   ],
   "source": [
    "groupe_1 = ['pers1', 'pers2', 'pers3', 'pers4', 'pers5', 'pers6']\n",
    "groupe_2 = ['Pers1', 'Pers2', 'Pers3']\n",
    "rang = 9\n",
    "placement = []\n",
    "for groupe_1 in range(0,rang):\n",
    "    groupe_1.append(placement)\n",
    "\n",
    "    print(placement)\n"
   ]
  },
  {
   "cell_type": "code",
   "execution_count": null,
   "id": "35bf43ae-ff78-4263-bd25-b418d3ef025b",
   "metadata": {},
   "outputs": [],
   "source": []
  },
  {
   "cell_type": "code",
   "execution_count": 5,
   "id": "5b1a56df-a36a-48b9-919f-e30bb16da2f2",
   "metadata": {},
   "outputs": [],
   "source": [
    "def choix_groupe(groupe1, groupe2):\n",
    "    \"\"\"\n",
    "    choix groupe\n",
    "    \n",
    "    \"\"\"\n",
    "    liste = [groupe1, groupe2]\n",
    "    i = random.randint(0, 1)\n",
    "    return liste[i]"
   ]
  },
  {
   "cell_type": "code",
   "execution_count": 8,
   "id": "31cb62e6-9274-455c-86c6-6ef149873a2a",
   "metadata": {},
   "outputs": [],
   "source": [
    "classe = choix_groupe(groupe_1, groupe_2)"
   ]
  },
  {
   "cell_type": "code",
   "execution_count": 9,
   "id": "807df04a-05e1-4de4-9de6-420140f014b3",
   "metadata": {},
   "outputs": [
    {
     "name": "stdout",
     "output_type": "stream",
     "text": [
      "['pers1', 'pers2', 'pers3', 'pers4', 'pers5', 'pers6', ['pers1', 'pers2', 'pers3'], ['pers4', 'pers5', 'pers6'], [['pers1', 'pers2', 'pers3'], ['pers4', 'pers5', 'pers6']], [], [], [], [], [], []]\n"
     ]
    }
   ],
   "source": [
    "print(classe)"
   ]
  },
  {
   "cell_type": "code",
   "execution_count": 26,
   "id": "60a9b590-4168-4c16-89b0-4cf3a31a4979",
   "metadata": {},
   "outputs": [
    {
     "name": "stdout",
     "output_type": "stream",
     "text": [
      "\n",
      "\n",
      "\n",
      "\n",
      "\n",
      "\n",
      "\n",
      "\n",
      "\n"
     ]
    }
   ],
   "source": [
    "# liste des apprenants\n",
    "apprenant =['Antoine', 'Charlène', 'Aurélien','Bertrand', 'Daniel', 'ElHadji', 'Husain', 'Guilian',\n",
    "            'Mohamed', 'Philippe', 'Honorin', 'Hélène', 'Stan', 'Loic', 'Mark', 'Meuslem', 'Maysam', 'Pablo',\n",
    "            'Jean-Baptiste', 'Sarah', 'Vincent']\n",
    "random.shuffle(apprenant)\n",
    "rang = 9\n",
    "# list_apprenant sous forme de liste de listes\n",
    "liste_apprenant = []\n",
    "\n",
    "for i in range(rang):\n",
    "    print()\n",
    "    n = i+=rang\n",
    "    liste_apprenant.append(apprenant[n:n+)"
   ]
  },
  {
   "cell_type": "code",
   "execution_count": 20,
   "id": "e9143111-3e36-4533-bb71-b3e7ae15234b",
   "metadata": {},
   "outputs": [
    {
     "name": "stdout",
     "output_type": "stream",
     "text": [
      "[['Maysam', 'Meuslem', 'Sarah', 'Daniel', 'Husain', 'Bertrand', 'Mark', 'Hélène', 'Stan', 'Aurélien', 'Philippe', 'Honorin', 'Charlène', 'Mohamed', 'Vincent', 'Loic', 'Guilian', 'Jean-Baptiste', 'Antoine', 'Pablo', 'ElHadji'], ['Maysam', 'Meuslem', 'Sarah', 'Daniel', 'Husain', 'Bertrand', 'Mark', 'Hélène', 'Stan', 'Aurélien', 'Philippe', 'Honorin', 'Charlène', 'Mohamed', 'Vincent', 'Loic', 'Guilian', 'Jean-Baptiste', 'Antoine', 'Pablo', 'ElHadji'], ['Maysam', 'Meuslem', 'Sarah', 'Daniel', 'Husain', 'Bertrand', 'Mark', 'Hélène', 'Stan', 'Aurélien', 'Philippe', 'Honorin', 'Charlène', 'Mohamed', 'Vincent', 'Loic', 'Guilian', 'Jean-Baptiste', 'Antoine', 'Pablo', 'ElHadji'], ['Maysam', 'Meuslem', 'Sarah', 'Daniel', 'Husain', 'Bertrand', 'Mark', 'Hélène', 'Stan', 'Aurélien', 'Philippe', 'Honorin', 'Charlène', 'Mohamed', 'Vincent', 'Loic', 'Guilian', 'Jean-Baptiste', 'Antoine', 'Pablo', 'ElHadji'], ['Maysam', 'Meuslem', 'Sarah', 'Daniel', 'Husain', 'Bertrand', 'Mark', 'Hélène', 'Stan', 'Aurélien', 'Philippe', 'Honorin', 'Charlène', 'Mohamed', 'Vincent', 'Loic', 'Guilian', 'Jean-Baptiste', 'Antoine', 'Pablo', 'ElHadji'], ['Maysam', 'Meuslem', 'Sarah', 'Daniel', 'Husain', 'Bertrand', 'Mark', 'Hélène', 'Stan', 'Aurélien', 'Philippe', 'Honorin', 'Charlène', 'Mohamed', 'Vincent', 'Loic', 'Guilian', 'Jean-Baptiste', 'Antoine', 'Pablo', 'ElHadji'], ['Maysam', 'Meuslem', 'Sarah', 'Daniel', 'Husain', 'Bertrand', 'Mark', 'Hélène', 'Stan', 'Aurélien', 'Philippe', 'Honorin', 'Charlène', 'Mohamed', 'Vincent', 'Loic', 'Guilian', 'Jean-Baptiste', 'Antoine', 'Pablo', 'ElHadji'], ['Maysam', 'Meuslem', 'Sarah', 'Daniel', 'Husain', 'Bertrand', 'Mark', 'Hélène', 'Stan', 'Aurélien', 'Philippe', 'Honorin', 'Charlène', 'Mohamed', 'Vincent', 'Loic', 'Guilian', 'Jean-Baptiste', 'Antoine', 'Pablo', 'ElHadji'], ['Maysam', 'Meuslem', 'Sarah', 'Daniel', 'Husain', 'Bertrand', 'Mark', 'Hélène', 'Stan', 'Aurélien', 'Philippe', 'Honorin', 'Charlène', 'Mohamed', 'Vincent', 'Loic', 'Guilian', 'Jean-Baptiste', 'Antoine', 'Pablo', 'ElHadji']]\n"
     ]
    }
   ],
   "source": [
    "print(liste_apprenant)"
   ]
  },
  {
   "cell_type": "code",
   "execution_count": null,
   "id": "4c608ef9-6fc5-4f78-a25e-055305b43c3d",
   "metadata": {},
   "outputs": [],
   "source": [
    "\n",
    "groupe_1 = \n",
    "groupe_2 = \n",
    "rang = []\n",
    "placement = []\n",
    "if groupe_1 + groupe_2 = len(rang):\n",
    "    groupe.append(placement)\n"
   ]
  },
  {
   "cell_type": "code",
   "execution_count": 29,
   "id": "5f0965fa-d0d6-4540-be0f-7b2f13d6c287",
   "metadata": {},
   "outputs": [
    {
     "name": "stdout",
     "output_type": "stream",
     "text": [
      "[]\n",
      "[]\n",
      "[]\n",
      "[]\n"
     ]
    }
   ],
   "source": [
    "rang = [9]\n",
    "groupe = [7, 3, 5, 6]\n",
    "rang_1 = []\n",
    "for i in groupe:\n",
    "    if i <= len(rang):\n",
    "        groupe_1.append(rang_1)\n",
    "    print(rang_1)"
   ]
  },
  {
   "cell_type": "code",
   "execution_count": null,
   "id": "78669f2a-93b7-48c9-9389-4059c22e8d09",
   "metadata": {},
   "outputs": [],
   "source": []
  }
 ],
 "metadata": {
  "kernelspec": {
   "display_name": "Python 3",
   "language": "python",
   "name": "python3"
  },
  "language_info": {
   "codemirror_mode": {
    "name": "ipython",
    "version": 3
   },
   "file_extension": ".py",
   "mimetype": "text/x-python",
   "name": "python",
   "nbconvert_exporter": "python",
   "pygments_lexer": "ipython3",
   "version": "3.8.10"
  }
 },
 "nbformat": 4,
 "nbformat_minor": 5
}
